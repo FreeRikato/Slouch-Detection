{
  "cells": [
    {
      "cell_type": "markdown",
      "metadata": {
        "id": "view-in-github",
        "colab_type": "text"
      },
      "source": [
        "<a href=\"https://colab.research.google.com/github/FreeRikato/Slouch-Detection/blob/master/src/app.ipynb\" target=\"_parent\"><img src=\"https://colab.research.google.com/assets/colab-badge.svg\" alt=\"Open In Colab\"/></a>"
      ]
    },
    {
      "cell_type": "markdown",
      "source": [
        "# Assignment - 2: Novelty in Data Preprocessing and ROI Segmentation"
      ],
      "metadata": {
        "id": "5pYX6BSeocX7"
      }
    },
    {
      "cell_type": "markdown",
      "source": [
        "## **Todos**:"
      ],
      "metadata": {
        "id": "5xoAC2Feq0mA"
      }
    },
    {
      "cell_type": "markdown",
      "source": [
        "- [ ] Setup and Data collection\n",
        "- [ ] Preprocessing\n",
        "  - [ ] Pose Estimation\n",
        "  - [ ] ROI Extraction\n",
        "  - [ ] Background Subtraction\n",
        "- [ ] Segmentation\n",
        "  - [ ] Thresholding\n",
        "  - [ ] Watershed Algorithm\n",
        "- [ ] Comparison of Algorithms\n",
        "- [ ] Visualization\n",
        "- [ ] Analysis\n",
        "  - [ ] Evaluation - Accuracy, Clarity and Computational Efficiency\n",
        "  - [ ] Expected Findings - Thresholding and Watershed\n",
        "- [ ] Conclusion"
      ],
      "metadata": {
        "id": "vUKH-WmMr09c"
      }
    },
    {
      "cell_type": "markdown",
      "source": [
        "Real-time posture monitoring and correction systems are crucial for preventing **musculoskeletal disorders**, particularly in environments where prolonged sitting is common. Traditional methods of posture monitoring rely on **external sensors** or **manual observations**, which are often **intrusive** and **lack real-time feedback**. With advancements in computer vision, using **laptop cameras** to monitor posture offers a **non-intrusive**, **scalable** solution. However, existing techniques face challenges in accurately segmenting the Region of Interest (ROI) in varying **lighting conditions** and **complex backgrounds**."
      ],
      "metadata": {
        "id": "znF5KxMUogab"
      }
    },
    {
      "cell_type": "markdown",
      "source": [
        "## 1. Existing Methods and Limitation"
      ],
      "metadata": {
        "id": "-t--vvSOo9cK"
      }
    },
    {
      "cell_type": "markdown",
      "source": [
        "* **Sensor-based Approaches**: These methods, such as those using **accelerometers** or **gyroscopes**, provide **high accuracy** but require additional **hardware**, making them less convenient and scalable.\n",
        "* **Computer Vision-based Methods**: Approaches using **OpenPose** or MediaPipe for posture detection have shown promise, but they often struggle with accurately segmenting the ROI in diverse environments, particularly in the presence of **occlusions** or **non-uniform lighting**."
      ],
      "metadata": {
        "id": "1eXRa_glpCyN"
      }
    },
    {
      "cell_type": "markdown",
      "source": [
        "## 2. Proposed Method"
      ],
      "metadata": {
        "id": "hpCcta63pa1Y"
      }
    },
    {
      "cell_type": "markdown",
      "source": [
        "### Rationale"
      ],
      "metadata": {
        "id": "IWO08PKspcfP"
      }
    },
    {
      "cell_type": "markdown",
      "source": [
        "The proposed method enhances the ROI by leveraging advanced preprocessing techniques combined with conventional segmentation algorithms. By focusing on the **key body parts** relevant to posture (e.g., shoulders, back, and head), the method aims to improve the **accuracy** and **reliability** of posture detection in real-time."
      ],
      "metadata": {
        "id": "2knhWDqXpfvR"
      }
    },
    {
      "cell_type": "markdown",
      "source": [
        "### Proposed Preprocessing Technique"
      ],
      "metadata": {
        "id": "5RaTkihypo5S"
      }
    },
    {
      "cell_type": "markdown",
      "source": [
        "* **Pose Estimation and ROI Enhancement**: Using OpenPose or MediaPipe to **identify and isolate key body joints**. The ROI is dynamically adjusted based on these key points, ensuring that only the relevant parts of the body are processed.\n",
        "* **Background Subtraction**: Adaptive background subtraction is employed to **remove irrelevant background** elements, allowing for a cleaner segmentation of the body parts."
      ],
      "metadata": {
        "id": "v4hR9aO1ptqm"
      }
    },
    {
      "cell_type": "markdown",
      "source": [
        "### Segmentation Algorithms"
      ],
      "metadata": {
        "id": "beyfnSiwp9vR"
      }
    },
    {
      "cell_type": "markdown",
      "source": [
        "* **Thresholding**: A simple and fast technique that segments images based on **pixel intensity**. Useful for binary segmentation but may struggle with complex or non-uniform backgrounds.\n",
        "* **Watershed Algorithm**: A region-based segmentation approach that treats the image as a **topographic surface**. Effective in separating **overlapping objects**, making it suitable for delineating different body parts within the ROI."
      ],
      "metadata": {
        "id": "tI2acg1Zp_Hr"
      }
    },
    {
      "cell_type": "markdown",
      "source": [
        "## 3. Implementation"
      ],
      "metadata": {
        "id": "daU2nJPPqRsP"
      }
    },
    {
      "cell_type": "markdown",
      "source": [
        "### Setup and Data Collection"
      ],
      "metadata": {
        "id": "HrN7s8INtUbD"
      }
    },
    {
      "cell_type": "code",
      "source": [],
      "metadata": {
        "id": "v8WzwpN5tj4c"
      },
      "execution_count": null,
      "outputs": []
    },
    {
      "cell_type": "markdown",
      "source": [
        "### Preprocessing"
      ],
      "metadata": {
        "id": "DQMMpuYNtboW"
      }
    },
    {
      "cell_type": "code",
      "source": [],
      "metadata": {
        "id": "ht11tw_UtkWB"
      },
      "execution_count": null,
      "outputs": []
    },
    {
      "cell_type": "markdown",
      "source": [
        "### Segmentation"
      ],
      "metadata": {
        "id": "iWNn2OeUtghO"
      }
    },
    {
      "cell_type": "code",
      "source": [],
      "metadata": {
        "id": "CFL7P6wStlda"
      },
      "execution_count": null,
      "outputs": []
    }
  ],
  "metadata": {
    "kernelspec": {
      "display_name": ".venv",
      "language": "python",
      "name": "python3"
    },
    "language_info": {
      "codemirror_mode": {
        "name": "ipython",
        "version": 3
      },
      "file_extension": ".py",
      "mimetype": "text/x-python",
      "name": "python",
      "nbconvert_exporter": "python",
      "pygments_lexer": "ipython3",
      "version": "3.12.3"
    },
    "colab": {
      "provenance": [],
      "toc_visible": true,
      "include_colab_link": true
    }
  },
  "nbformat": 4,
  "nbformat_minor": 0
}